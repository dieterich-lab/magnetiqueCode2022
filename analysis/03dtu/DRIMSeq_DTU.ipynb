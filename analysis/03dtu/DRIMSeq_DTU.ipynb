{
 "cells": [
  {
   "cell_type": "code",
   "execution_count": 2,
   "id": "13ead43c-6968-4a98-8a3b-6ae9403d7509",
   "metadata": {},
   "outputs": [
    {
     "name": "stderr",
     "output_type": "stream",
     "text": [
      "\n",
      "Attaching package: ‘DRIMSeq’\n",
      "\n",
      "\n",
      "The following object is masked from ‘package:base’:\n",
      "\n",
      "    proportions\n",
      "\n",
      "\n"
     ]
    }
   ],
   "source": [
    "library(tidyverse)\n",
    "library(DRIMSeq)"
   ]
  },
  {
   "cell_type": "code",
   "execution_count": 3,
   "id": "6fd4aba6-1e28-4a55-9dd2-ab43cba873b5",
   "metadata": {},
   "outputs": [],
   "source": [
    "r = readRDS(\"/beegfs/prj/MAGE/analysis/DTU/drimseq_age_sex_race_sva.RDS\")"
   ]
  },
  {
   "cell_type": "code",
   "execution_count": 4,
   "id": "e5021ec8-2912-4720-8c0e-6b15112284cd",
   "metadata": {},
   "outputs": [
    {
     "data": {
      "text/plain": [
       "An object of class dmDSfit \n",
       "with 9784 genes and 354 samples\n",
       "* data accessors: counts(), samples()\n",
       "  design()\n",
       "  mean_expression(), common_precision(), genewise_precision()\n",
       "  proportions(), coefficients()"
      ]
     },
     "metadata": {},
     "output_type": "display_data"
    }
   ],
   "source": [
    "r"
   ]
  },
  {
   "cell_type": "code",
   "execution_count": 8,
   "id": "c7a1116a-615c-4b3e-a0da-84f579f98245",
   "metadata": {},
   "outputs": [
    {
     "data": {
      "text/html": [
       "<table class=\"dataframe\">\n",
       "<caption>A matrix: 6 × 8 of type dbl</caption>\n",
       "<thead>\n",
       "\t<tr><th></th><th scope=col>(Intercept)</th><th scope=col>EtiologyDCM</th><th scope=col>EtiologyHCM</th><th scope=col>RaceC</th><th scope=col>Age</th><th scope=col>SexM</th><th scope=col>SV1</th><th scope=col>SV2</th></tr>\n",
       "</thead>\n",
       "<tbody>\n",
       "\t<tr><th scope=row>1</th><td>1</td><td>0</td><td>0</td><td>0</td><td>-2.8202307</td><td>1</td><td>-0.04052474</td><td>-0.035366329</td></tr>\n",
       "\t<tr><th scope=row>2</th><td>1</td><td>0</td><td>0</td><td>0</td><td>-2.1874401</td><td>1</td><td>-0.04481624</td><td> 0.004160452</td></tr>\n",
       "\t<tr><th scope=row>3</th><td>1</td><td>0</td><td>0</td><td>0</td><td>-2.8993296</td><td>1</td><td>-0.02736733</td><td> 0.071805196</td></tr>\n",
       "\t<tr><th scope=row>4</th><td>1</td><td>0</td><td>0</td><td>0</td><td> 0.4228212</td><td>0</td><td>-0.03568299</td><td>-0.077308676</td></tr>\n",
       "\t<tr><th scope=row>5</th><td>1</td><td>0</td><td>0</td><td>0</td><td> 0.4228212</td><td>0</td><td>-0.03349105</td><td>-0.028816087</td></tr>\n",
       "\t<tr><th scope=row>6</th><td>1</td><td>0</td><td>0</td><td>1</td><td>-0.2890682</td><td>1</td><td> 0.12616972</td><td>-0.044279843</td></tr>\n",
       "</tbody>\n",
       "</table>\n"
      ],
      "text/latex": [
       "A matrix: 6 × 8 of type dbl\n",
       "\\begin{tabular}{r|llllllll}\n",
       "  & (Intercept) & EtiologyDCM & EtiologyHCM & RaceC & Age & SexM & SV1 & SV2\\\\\n",
       "\\hline\n",
       "\t1 & 1 & 0 & 0 & 0 & -2.8202307 & 1 & -0.04052474 & -0.035366329\\\\\n",
       "\t2 & 1 & 0 & 0 & 0 & -2.1874401 & 1 & -0.04481624 &  0.004160452\\\\\n",
       "\t3 & 1 & 0 & 0 & 0 & -2.8993296 & 1 & -0.02736733 &  0.071805196\\\\\n",
       "\t4 & 1 & 0 & 0 & 0 &  0.4228212 & 0 & -0.03568299 & -0.077308676\\\\\n",
       "\t5 & 1 & 0 & 0 & 0 &  0.4228212 & 0 & -0.03349105 & -0.028816087\\\\\n",
       "\t6 & 1 & 0 & 0 & 1 & -0.2890682 & 1 &  0.12616972 & -0.044279843\\\\\n",
       "\\end{tabular}\n"
      ],
      "text/markdown": [
       "\n",
       "A matrix: 6 × 8 of type dbl\n",
       "\n",
       "| <!--/--> | (Intercept) | EtiologyDCM | EtiologyHCM | RaceC | Age | SexM | SV1 | SV2 |\n",
       "|---|---|---|---|---|---|---|---|---|\n",
       "| 1 | 1 | 0 | 0 | 0 | -2.8202307 | 1 | -0.04052474 | -0.035366329 |\n",
       "| 2 | 1 | 0 | 0 | 0 | -2.1874401 | 1 | -0.04481624 |  0.004160452 |\n",
       "| 3 | 1 | 0 | 0 | 0 | -2.8993296 | 1 | -0.02736733 |  0.071805196 |\n",
       "| 4 | 1 | 0 | 0 | 0 |  0.4228212 | 0 | -0.03568299 | -0.077308676 |\n",
       "| 5 | 1 | 0 | 0 | 0 |  0.4228212 | 0 | -0.03349105 | -0.028816087 |\n",
       "| 6 | 1 | 0 | 0 | 1 | -0.2890682 | 1 |  0.12616972 | -0.044279843 |\n",
       "\n"
      ],
      "text/plain": [
       "  (Intercept) EtiologyDCM EtiologyHCM RaceC Age        SexM SV1        \n",
       "1 1           0           0           0     -2.8202307 1    -0.04052474\n",
       "2 1           0           0           0     -2.1874401 1    -0.04481624\n",
       "3 1           0           0           0     -2.8993296 1    -0.02736733\n",
       "4 1           0           0           0      0.4228212 0    -0.03568299\n",
       "5 1           0           0           0      0.4228212 0    -0.03349105\n",
       "6 1           0           0           1     -0.2890682 1     0.12616972\n",
       "  SV2         \n",
       "1 -0.035366329\n",
       "2  0.004160452\n",
       "3  0.071805196\n",
       "4 -0.077308676\n",
       "5 -0.028816087\n",
       "6 -0.044279843"
      ]
     },
     "metadata": {},
     "output_type": "display_data"
    }
   ],
   "source": [
    "head(design(r))"
   ]
  },
  {
   "cell_type": "code",
   "execution_count": 9,
   "id": "5bd2495a-9375-495f-b438-c143310829c6",
   "metadata": {},
   "outputs": [],
   "source": [
    "contrast_dcm_nfd = c(0, 1, 0, 0, 0, 0, 0, 0)\n",
    "contrast_hcm_nfd = c(0, 0, 1, 0, 0, 0, 0, 0)\n",
    "contrast_dcm_hcm = c(0, 1, -1, 0, 0, 0, 0, 0)\n"
   ]
  },
  {
   "cell_type": "code",
   "execution_count": 11,
   "id": "c39be63e-2f52-441b-9274-6e919b930b1c",
   "metadata": {},
   "outputs": [],
   "source": [
    "c1 <- dmTest(r, contrast = contrast_dcm_nfd)"
   ]
  },
  {
   "cell_type": "code",
   "execution_count": 12,
   "id": "9b87ffbd-d1f6-43f1-8a65-893db06aa96c",
   "metadata": {},
   "outputs": [],
   "source": [
    "c2 <- dmTest(r, contrast = contrast_hcm_nfd)"
   ]
  },
  {
   "cell_type": "code",
   "execution_count": 13,
   "id": "892fb920-4ffa-45a8-b28b-a1a0add477c9",
   "metadata": {},
   "outputs": [],
   "source": [
    "c3 <- dmTest(r, contrast = contrast_dcm_hcm)"
   ]
  },
  {
   "cell_type": "code",
   "execution_count": 23,
   "id": "126c6fbf-4362-4187-8919-5a8f33781d20",
   "metadata": {},
   "outputs": [
    {
     "data": {
      "text/html": [
       "4424"
      ],
      "text/latex": [
       "4424"
      ],
      "text/markdown": [
       "4424"
      ],
      "text/plain": [
       "[1] 4424"
      ]
     },
     "metadata": {},
     "output_type": "display_data"
    }
   ],
   "source": [
    "nrow(filter(results(c1, level='feature') , adj_pvalue < 0.05))"
   ]
  },
  {
   "cell_type": "code",
   "execution_count": 24,
   "id": "b73a7494-1f30-4513-85e4-4f334273ff91",
   "metadata": {},
   "outputs": [
    {
     "data": {
      "text/html": [
       "1207"
      ],
      "text/latex": [
       "1207"
      ],
      "text/markdown": [
       "1207"
      ],
      "text/plain": [
       "[1] 1207"
      ]
     },
     "metadata": {},
     "output_type": "display_data"
    }
   ],
   "source": [
    "nrow(filter(results(c2, level='feature') , adj_pvalue < 0.05))"
   ]
  },
  {
   "cell_type": "code",
   "execution_count": 26,
   "id": "918a768e-9890-4f9d-a70b-2e06c65c09b7",
   "metadata": {},
   "outputs": [
    {
     "data": {
      "text/html": [
       "149"
      ],
      "text/latex": [
       "149"
      ],
      "text/markdown": [
       "149"
      ],
      "text/plain": [
       "[1] 149"
      ]
     },
     "metadata": {},
     "output_type": "display_data"
    }
   ],
   "source": [
    "nrow(filter(results(c3, level='feature') , adj_pvalue < 0.05))"
   ]
  },
  {
   "cell_type": "code",
   "execution_count": null,
   "id": "aca15a7d-2eaf-48d1-acd4-b6248ae1319b",
   "metadata": {},
   "outputs": [],
   "source": []
  }
 ],
 "metadata": {
  "kernelspec": {
   "display_name": "module_R",
   "language": "R",
   "name": "module_r"
  },
  "language_info": {
   "codemirror_mode": "r",
   "file_extension": ".r",
   "mimetype": "text/x-r-source",
   "name": "R",
   "pygments_lexer": "r",
   "version": "4.0.5"
  }
 },
 "nbformat": 4,
 "nbformat_minor": 5
}

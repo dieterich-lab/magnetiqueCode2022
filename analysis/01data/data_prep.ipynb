{
 "cells": [
  {
   "cell_type": "markdown",
   "metadata": {},
   "source": [
    "## Data preparation for the app\n",
    "\n",
    "Data cleaning, outlier removal, etc.\n",
    "\n",
    "- sample: keep all patients, except PPCM\n",
    "- gene: standard filtering for gene based analyses\n"
   ]
  },
  {
   "cell_type": "code",
   "execution_count": 2,
   "metadata": {},
   "outputs": [],
   "source": [
    "library(dplyr)\n",
    "library(stringr)\n"
   ]
  },
  {
   "cell_type": "code",
   "execution_count": 3,
   "metadata": {},
   "outputs": [
    {
     "data": {
      "text/html": [
       "TRUE"
      ],
      "text/latex": [
       "TRUE"
      ],
      "text/markdown": [
       "TRUE"
      ],
      "text/plain": [
       "[1] TRUE"
      ]
     },
     "metadata": {},
     "output_type": "display_data"
    }
   ],
   "source": [
    "# prep data\n",
    "\n",
    "parentDir <- 'magnetiqueCode2022/'\n",
    "\n",
    "ctsFile <- file.path(parentDir, 'gene_count_matrix.csv', fsep=.Platform$file.sep)\n",
    "traitsFile <- file.path(parentDir, 'MAGE_metadata.txt', fsep=.Platform$file.sep)\n",
    "dedupFile <- file.path(parentDir, 'mage_dedup_metrics_final.txt', fsep=.Platform$file.sep) # CD\n",
    "\n",
    "cts <- read.csv(ctsFile, row.names=\"gene_id\", as.is=T)\n",
    "colnames(cts) <- gsub(\"_stringtieRef\", \"\", colnames(cts))\n",
    "\n",
    "datTraits <- read.csv(traitsFile, stringsAsFactors = FALSE)\n",
    "datTraits <- datTraits[c('Run', 'etiology', 'race', 'Age', 'sex')]\n",
    "colnames(datTraits) <- c('Run', 'Etiology', 'Race', 'Age', 'Sex')\n",
    "datTraits <- datTraits[datTraits$Etiology != '',]\n",
    "datTraits$Etiology <- str_sub(datTraits$Etiology, start = 1, end = 1)\n",
    "datTraits[datTraits$Etiology=='D',]$Etiology <- 'DCM'\n",
    "datTraits[datTraits$Etiology=='H',]$Etiology <- 'HCM'\n",
    "datTraits[datTraits$Etiology=='N',]$Etiology <- 'NFD'\n",
    "datTraits[datTraits$Etiology=='P',]$Etiology <- 'PPCM'\n",
    "datTraits$Etiology <- relevel(as.factor(datTraits$Etiology), ref='NFD')\n",
    "datTraits[datTraits$Race=='African American',]$Race <- 'AA'\n",
    "datTraits[datTraits$Race=='Caucasian',]$Race <- 'C'\n",
    "datTraits$Race <- relevel(as.factor(datTraits$Race), ref='C')\n",
    "datTraits[datTraits$Sex=='female',]$Sex <- 'F'\n",
    "datTraits[datTraits$Sex=='male',]$Sex <- 'M'\n",
    "datTraits$Sex <- relevel(as.factor(datTraits$Sex), ref='M')\n",
    "\n",
    "idx <- intersect(datTraits$Run, colnames(cts))\n",
    "datTraits <- datTraits[na.omit(match(idx, datTraits$Run)),]\n",
    "cts <- cts[,na.omit(match(idx, colnames(cts)))]\n",
    "\n",
    "dedup <- read.table(dedupFile, as.is=T, header=F)\n",
    "dedup <- dedup[,c(1,3)]\n",
    "dedup[,1] <- gsub(\".metrics.txt-Unknown\",\"\", dedup[,1])\n",
    "colnames(dedup) <- c(\"Run\",\"DuplicationRate\")\n",
    "datTraits <- merge(datTraits, dedup, by.x='Run', by.y='Run')\n",
    "rownames(datTraits) <- datTraits$Run\n",
    "\n",
    "ins <- intersect(rownames(datTraits), colnames(cts))\n",
    "datTraits <- datTraits[ins, ]\n",
    "cts <- cts[, ins]\n",
    "\n",
    "all(rownames(datTraits)==colnames(cts))"
   ]
  },
  {
   "cell_type": "code",
   "execution_count": 4,
   "metadata": {},
   "outputs": [
    {
     "data": {
      "text/html": [
       "<style>\n",
       ".list-inline {list-style: none; margin:0; padding: 0}\n",
       ".list-inline>li {display: inline-block}\n",
       ".list-inline>li:not(:last-child)::after {content: \"\\00b7\"; padding: 0 .5ex}\n",
       "</style>\n",
       "<ol class=list-inline><li>58884</li><li>360</li></ol>\n"
      ],
      "text/latex": [
       "\\begin{enumerate*}\n",
       "\\item 58884\n",
       "\\item 360\n",
       "\\end{enumerate*}\n"
      ],
      "text/markdown": [
       "1. 58884\n",
       "2. 360\n",
       "\n",
       "\n"
      ],
      "text/plain": [
       "[1] 58884   360"
      ]
     },
     "metadata": {},
     "output_type": "display_data"
    }
   ],
   "source": [
    "dim(cts)"
   ]
  },
  {
   "cell_type": "markdown",
   "metadata": {},
   "source": [
    "We wrote 2 files to disk: the full data with _flagged arrays_ , and the final data, after filtering (using flags)"
   ]
  },
  {
   "cell_type": "code",
   "execution_count": 12,
   "metadata": {},
   "outputs": [
    {
     "data": {
      "text/html": [
       "<style>\n",
       ".list-inline {list-style: none; margin:0; padding: 0}\n",
       ".list-inline>li {display: inline-block}\n",
       ".list-inline>li:not(:last-child)::after {content: \"\\00b7\"; padding: 0 .5ex}\n",
       "</style>\n",
       "<ol class=list-inline><li>41886</li><li>360</li></ol>\n"
      ],
      "text/latex": [
       "\\begin{enumerate*}\n",
       "\\item 41886\n",
       "\\item 360\n",
       "\\end{enumerate*}\n"
      ],
      "text/markdown": [
       "1. 41886\n",
       "2. 360\n",
       "\n",
       "\n"
      ],
      "text/plain": [
       "[1] 41886   360"
      ]
     },
     "metadata": {},
     "output_type": "display_data"
    }
   ],
   "source": [
    "# gene-level filtering\n",
    "\n",
    "varQuant <- 0.01\n",
    "countQuant <- 0.01\n",
    "\n",
    "# raw threshold\n",
    "chk <- cts[rowSums(cts) > 10, ]\n",
    "# threshold on variance: remove varQuant% of genes with lowest variance\n",
    "var.all <- apply(chk, 1, var)\n",
    "chk <- chk[var.all > quantile(var.all, probs=varQuant, type=8), ]\n",
    "# threshold on normalised counts: remove countQuant% of genes with lowest\n",
    "# (sequencing-depth normalised) average expression\n",
    "sf <- DESeq2::estimateSizeFactorsForMatrix(chk)\n",
    "chk.norm <- t(t(chk)/sf)\n",
    "keep <- rowMeans(chk.norm) > quantile(rowMeans(chk.norm), probs=countQuant, type=8)\n",
    "chk <- chk[keep,]\n",
    "\n",
    "background <- rownames(cts)\n",
    "universe <- background %in% background\n",
    "selection <- background %in% rownames(chk)\n",
    "genes <- factor(as.integer(selection[universe]))\n",
    "names(genes) <- background\n",
    "\n",
    "dim(chk)"
   ]
  },
  {
   "cell_type": "code",
   "execution_count": 13,
   "metadata": {},
   "outputs": [],
   "source": [
    "# sample-level filtering (no outlier removal)\n",
    "# remove PPCM only\n",
    "\n",
    "samples <- rep(1, dim(cts)[2])\n",
    "names(samples) <- colnames(cts)\n",
    "samples[names(samples) %in% datTraits[datTraits$Etiology == 'PPCM',]$Run] <- 0\n",
    "samples <- as.factor(samples)\n"
   ]
  },
  {
   "cell_type": "code",
   "execution_count": 14,
   "metadata": {},
   "outputs": [],
   "source": [
    "# full data as RData \n",
    "dirloc <- 'magnetiqueCode2022/analysis/data/'\n",
    "\n",
    "gene.attrs <- list(GeneFlag=genes)\n",
    "cell.attrs <- list(SampleFlag=samples,\n",
    "                   Run=datTraits$Run,\n",
    "                   Etiology=datTraits$Etiology,\n",
    "                   Race=datTraits$Race,\n",
    "                   Age=datTraits$Age,\n",
    "                   Sex=datTraits$Sex,\n",
    "                   DuplicationRate=datTraits$DuplicationRate)\n",
    "\n",
    "save(cts, cell.attrs, gene.attrs, file=file.path(dirloc, 'MAGNet_full.RData'))\n",
    "\n",
    "# write sample info - metadata \n",
    "write.table(as.data.frame(cell.attrs)[c(2,1,3,4,5,6,7)], file.path(dirloc, 'samples.txt'), \n",
    "            row.names=F, col.names=T, quote=F, sep=\",\")"
   ]
  },
  {
   "cell_type": "markdown",
   "metadata": {},
   "source": [
    "Now write the final data in a nice format for DGE, etc. This is the data used for the app."
   ]
  },
  {
   "cell_type": "code",
   "execution_count": 15,
   "metadata": {},
   "outputs": [
    {
     "data": {
      "text/html": [
       "TRUE"
      ],
      "text/latex": [
       "TRUE"
      ],
      "text/markdown": [
       "TRUE"
      ],
      "text/plain": [
       "[1] TRUE"
      ]
     },
     "metadata": {},
     "output_type": "display_data"
    },
    {
     "data": {
      "text/html": [
       "TRUE"
      ],
      "text/latex": [
       "TRUE"
      ],
      "text/markdown": [
       "TRUE"
      ],
      "text/plain": [
       "[1] TRUE"
      ]
     },
     "metadata": {},
     "output_type": "display_data"
    }
   ],
   "source": [
    "# get data\n",
    "MAGNet_data <- load(file.path(dirloc, 'MAGNet_full.RData'))\n",
    "\n",
    "meta <- as.data.frame(cell.attrs)\n",
    "# already filtered \n",
    "gene_counts <- cts[as.logical(as.numeric(levels(gene.attrs$GeneFlag))[gene.attrs$GeneFlag]),\n",
    "                   as.logical(as.numeric(levels(meta$SampleFlag))[meta$SampleFlag])]\n",
    "# filter meta after filtering counts!\n",
    "meta <- meta[as.logical(as.numeric(levels(meta$SampleFlag))[meta$SampleFlag]),]\n",
    "# then drop unused levels\n",
    "meta$Etiology <- droplevels(meta$Etiology)\n",
    "\n",
    "# add new pheno data\n",
    "pheno_data <- read.csv(file.path(parentDir, 'phenoData.csv'))\n",
    "# mapping\n",
    "mapping <- read.csv(file.path(parentDir, 'map_SRR_to_pid.csv'))\n",
    "pheno_data <- merge(pheno_data, mapping[,c('V2', 'Run', 'Experiment')], by.x='sample_name', by.y='V2')\n",
    "meta <- merge(meta, pheno_data, by='Run', all.x=TRUE)\n",
    "\n",
    "names <- c(\"sample_name\", \"Run\", \"Experiment\", \"Library.Pool\", \"TIN.median.\", 'RIN', \"DuplicationRate\", \"tissue_source\", \"Etiology\", \"Race\", \"Age\", \"Sex\", \"weight\", \"height\", \"hw\", \"lv_mass\", \"afib\", \"VTVF\", \"Diabetes\", \"Hypertension\", \"LVEF\")\n",
    "meta <- meta[names]\n",
    "rownames(meta) <- meta[,1]\n",
    "meta$sample_name <- NULL\n",
    "\n",
    "colnames(meta) <- c(\"Run\", \"Experiment\", \"LibraryPool\", \"TIN\", 'RIN', \"DuplicationRate\", \"TissueSource\", \"Etiology\", \"Race\", \"Age\", \"Sex\", \"Weight\", \"Height\", \"HW\", \"LVMass\", \"AFib\", \"VTVF\", \"Diabetes\", \"Hypertension\", \"LVEF\")\n",
    "\n",
    "all.equal(colnames(gene_counts), meta$Run)\n",
    "colnames(gene_counts) <- rownames(meta)\n",
    "all.equal(colnames(gene_counts), rownames(meta))\n",
    "\n",
    "countData <- gene_counts\n",
    "colData <- meta\n",
    "save(countData, colData, file=file.path(dirloc, 'MAGNet.RData'))\n",
    "write.table(colData, file=file.path(dirloc, 'samples.txt'), sep=\",\", row.names=TRUE, col.names=TRUE, quote=FALSE)"
   ]
  },
  {
   "cell_type": "code",
   "execution_count": 17,
   "metadata": {},
   "outputs": [
    {
     "data": {
      "text/html": [
       "<style>\n",
       ".list-inline {list-style: none; margin:0; padding: 0}\n",
       ".list-inline>li {display: inline-block}\n",
       ".list-inline>li:not(:last-child)::after {content: \"\\00b7\"; padding: 0 .5ex}\n",
       "</style>\n",
       "<ol class=list-inline><li>41886</li><li>354</li></ol>\n"
      ],
      "text/latex": [
       "\\begin{enumerate*}\n",
       "\\item 41886\n",
       "\\item 354\n",
       "\\end{enumerate*}\n"
      ],
      "text/markdown": [
       "1. 41886\n",
       "2. 354\n",
       "\n",
       "\n"
      ],
      "text/plain": [
       "[1] 41886   354"
      ]
     },
     "metadata": {},
     "output_type": "display_data"
    },
    {
     "data": {
      "text/html": [
       "<style>\n",
       ".list-inline {list-style: none; margin:0; padding: 0}\n",
       ".list-inline>li {display: inline-block}\n",
       ".list-inline>li:not(:last-child)::after {content: \"\\00b7\"; padding: 0 .5ex}\n",
       "</style>\n",
       "<ol class=list-inline><li>354</li><li>20</li></ol>\n"
      ],
      "text/latex": [
       "\\begin{enumerate*}\n",
       "\\item 354\n",
       "\\item 20\n",
       "\\end{enumerate*}\n"
      ],
      "text/markdown": [
       "1. 354\n",
       "2. 20\n",
       "\n",
       "\n"
      ],
      "text/plain": [
       "[1] 354  20"
      ]
     },
     "metadata": {},
     "output_type": "display_data"
    }
   ],
   "source": [
    "dim(countData)\n",
    "dim(colData)"
   ]
  }
 ],
 "metadata": {
  "kernelspec": {
   "display_name": "R4.0.5",
   "language": "R",
   "name": "ir4.0.5"
  },
  "language_info": {
   "codemirror_mode": "r",
   "file_extension": ".r",
   "mimetype": "text/x-r-source",
   "name": "R",
   "pygments_lexer": "r",
   "version": "4.0.5"
  }
 },
 "nbformat": 4,
 "nbformat_minor": 4
}
